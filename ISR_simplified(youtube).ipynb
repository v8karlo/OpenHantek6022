{
  "nbformat": 4,
  "nbformat_minor": 0,
  "metadata": {
    "colab": {
      "name": "ISR simplified(youtube).ipynb",
      "provenance": [],
      "include_colab_link": true
    },
    "kernelspec": {
      "name": "python3",
      "display_name": "Python 3"
    },
    "accelerator": "GPU"
  },
  "cells": [
    {
      "cell_type": "markdown",
      "metadata": {
        "id": "view-in-github",
        "colab_type": "text"
      },
      "source": [
        "<a href=\"https://colab.research.google.com/github/v8karlo/OpenHantek6022/blob/master/ISR_simplified(youtube).ipynb\" target=\"_parent\"><img src=\"https://colab.research.google.com/assets/colab-badge.svg\" alt=\"Open In Colab\"/></a>"
      ]
    },
    {
      "cell_type": "markdown",
      "metadata": {
        "id": "JmYo4gKj4ntS"
      },
      "source": [
        "<h2>The goal of this project is to upscale and improve the quality of low resolution images.</h2>\n",
        "<p>Docs: <a href = \"https://idealo.github.io/image-super-resolution/\">https://idealo.github.io/image-super-resolution/</a></p>\n",
        "Original Notebook: <a href = \"https://colab.research.google.com/github/idealo/image-super-resolution/blob/master/notebooks/ISR_Prediction_Tutorial.ipynb\">https://colab.research.google.com/github/idealo/image-super-resolution/blob/master/notebooks/ISR_Prediction_Tutorial.ipynb</a>\n",
        "\n"
      ]
    },
    {
      "cell_type": "code",
      "metadata": {
        "id": "yn2qU_Gstb12",
        "colab": {
          "base_uri": "https://localhost:8080/",
          "height": 527
        },
        "outputId": "fcc4fc54-a412-4165-da3f-2080fff215fc"
      },
      "source": [
        "#@title Run this cell to Setup ISR (Image Super-Resolution)\n",
        "\n",
        "#@markdown * installs ISR\n",
        "#@markdown * downloads pre-trained weights and data\n",
        "#@markdown * creates the models (RRDN GANS model, Large RDN model, Small RDN model, Large RDN noise cancelling, detail enchancing model)\n",
        "\n",
        "\n",
        "!pip -q install ISR gdown\n",
        "\n",
        "#!wget https://media.githubusercontent.com/media/idealo/image-super-resolution/master/weights/sample_weights/rdn-C6-D20-G64-G064-x2/ArtefactCancelling/rdn-C6-D20-G64-G064-x2_ArtefactCancelling_epoch219.hdf5\n",
        "#!wget https://media.githubusercontent.com/media/idealo/image-super-resolution/master/weights/sample_weights/rdn-C6-D20-G64-G064-x2/PSNR-driven/rdn-C6-D20-G64-G064-x2_PSNR_epoch086.hdf5\n",
        "#!wget https://media.githubusercontent.com/media/idealo/image-super-resolution/master/weights/sample_weights/rdn-C3-D10-G64-G064-x2/PSNR-driven/rdn-C3-D10-G64-G064-x2_PSNR_epoch134.hdf5\n",
        "#!wget https://media.githubusercontent.com/media/idealo/image-super-resolution/master/weights/sample_weights/rrdn-C4-D3-G32-G032-T10-x4/Perceptual/rrdn-C4-D3-G32-G032-T10-x4_epoch299.hdf5\n",
        "\n",
        "import os\n",
        "if not os.path.exists('weights/rrdn-C4-D3-G32-G032-T10-x4_epoch299.hdf'):\n",
        "  # download pretrained weights\n",
        "  import os\n",
        "  github_weights_url = 'https://github.com/AwaleSajil/ISR_weights'\n",
        "  folder_name = os.path.basename(github_weights_url)\n",
        "  !git clone $github_weights_url\n",
        "  !mv $folder_name 'weights'\n",
        "\n",
        "\n",
        "!git clone https://github.com/AwaleSajil/ISR-Youtube-\n",
        "\n",
        "\n",
        "from ISR.models import RDN, RRDN\n",
        "import numpy as np\n",
        "from PIL import Image\n",
        "import IPython.display\n",
        "\n",
        "\n",
        "rrdn_gans = RRDN(arch_params={'C': 4, 'D':3, 'G':32, 'G0':32, 'x':4, 'T': 10})\n",
        "rrdn_gans.model.load_weights('weights/rrdn-C4-D3-G32-G032-T10-x4_epoch299.hdf5')\n",
        "\n",
        "large_rdn = RDN(arch_params={'C': 6, 'D':20, 'G':64, 'G0':64, 'x':2})\n",
        "large_rdn.model.load_weights('weights/rdn-C6-D20-G64-G064-x2_PSNR_epoch086.hdf5')\n",
        "\n",
        "small_rdn = RDN(arch_params={'C': 3, 'D':10, 'G':64, 'G0':64, 'x':2})\n",
        "small_rdn.model.load_weights('weights/rdn-C3-D10-G64-G064-x2_PSNR_epoch134.hdf5')\n",
        "\n",
        "large_noise_cancelling_rdn = RDN(arch_params={'C': 6, 'D':20, 'G':64, 'G0':64, 'x':2})\n",
        "large_noise_cancelling_rdn.model.load_weights('weights/rdn-C6-D20-G64-G064-x2_ArtefactCancelling_epoch219.hdf5')"
      ],
      "execution_count": 4,
      "outputs": [
        {
          "output_type": "stream",
          "name": "stdout",
          "text": [
            "  Preparing metadata (setup.py) ... \u001b[?25l\u001b[?25hdone\n",
            "\u001b[31mERROR: Cannot install isr==1.9.0, isr==1.9.1, isr==1.9.2, isr==1.9.3, isr==2.0.0, isr==2.0.1, isr==2.0.2, isr==2.0.5, isr==2.1, isr==2.1.1 and isr==2.2.0 because these package versions have conflicting dependencies.\u001b[0m\u001b[31m\n",
            "\u001b[0m\u001b[31mERROR: ResolutionImpossible: for help visit https://pip.pypa.io/en/latest/topics/dependency-resolution/#dealing-with-dependency-conflicts\u001b[0m\u001b[31m\n",
            "\u001b[0mfatal: destination path 'ISR_weights' already exists and is not an empty directory.\n",
            "mv: cannot move 'ISR_weights' to 'weights/ISR_weights': Directory not empty\n",
            "fatal: destination path 'ISR-Youtube-' already exists and is not an empty directory.\n"
          ]
        },
        {
          "output_type": "error",
          "ename": "ModuleNotFoundError",
          "evalue": "No module named 'ISR'",
          "traceback": [
            "\u001b[0;31m---------------------------------------------------------------------------\u001b[0m",
            "\u001b[0;31mModuleNotFoundError\u001b[0m                       Traceback (most recent call last)",
            "\u001b[0;32m<ipython-input-4-3ee19c1d7360>\u001b[0m in \u001b[0;36m<cell line: 0>\u001b[0;34m()\u001b[0m\n\u001b[1;32m     26\u001b[0m \u001b[0;34m\u001b[0m\u001b[0m\n\u001b[1;32m     27\u001b[0m \u001b[0;34m\u001b[0m\u001b[0m\n\u001b[0;32m---> 28\u001b[0;31m \u001b[0;32mfrom\u001b[0m \u001b[0mISR\u001b[0m\u001b[0;34m.\u001b[0m\u001b[0mmodels\u001b[0m \u001b[0;32mimport\u001b[0m \u001b[0mRDN\u001b[0m\u001b[0;34m,\u001b[0m \u001b[0mRRDN\u001b[0m\u001b[0;34m\u001b[0m\u001b[0;34m\u001b[0m\u001b[0m\n\u001b[0m\u001b[1;32m     29\u001b[0m \u001b[0;32mimport\u001b[0m \u001b[0mnumpy\u001b[0m \u001b[0;32mas\u001b[0m \u001b[0mnp\u001b[0m\u001b[0;34m\u001b[0m\u001b[0;34m\u001b[0m\u001b[0m\n\u001b[1;32m     30\u001b[0m \u001b[0;32mfrom\u001b[0m \u001b[0mPIL\u001b[0m \u001b[0;32mimport\u001b[0m \u001b[0mImage\u001b[0m\u001b[0;34m\u001b[0m\u001b[0;34m\u001b[0m\u001b[0m\n",
            "\u001b[0;31mModuleNotFoundError\u001b[0m: No module named 'ISR'",
            "",
            "\u001b[0;31m---------------------------------------------------------------------------\u001b[0;32m\nNOTE: If your import is failing due to a missing package, you can\nmanually install dependencies using either !pip or !apt.\n\nTo view examples of installing some common dependencies, click the\n\"Open Examples\" button below.\n\u001b[0;31m---------------------------------------------------------------------------\u001b[0m\n"
          ],
          "errorDetails": {
            "actions": [
              {
                "action": "open_url",
                "actionText": "Open Examples",
                "url": "/notebooks/snippets/importing_libraries.ipynb"
              }
            ]
          }
        }
      ]
    },
    {
      "cell_type": "code",
      "metadata": {
        "id": "crJZMrmkyRsB",
        "cellView": "form"
      },
      "source": [
        "#@title Choose a model, specific a picture and Run to get RESULTS\n",
        "\n",
        "#@markdown * Choose a model\n",
        "choice_model = 'RDN noise cancelling (C6-D20-G64-G064-x2_ArtefactCancelling_epoch219)' #@param [\"RRDN GANS (C4-D3-G32-G032-T10-x4_epoch299)\", \"Large RDN (C6-D20-G64-G064-x2_PSNR_epoch086)\", \"Small RDN (C3-D10-G64-G064-x2_PSNR_epoch134)\", \"RDN noise cancelling (C6-D20-G64-G064-x2_ArtefactCancelling_epoch219)\"]\n",
        "\n",
        "\n",
        "#@markdown * Specify an image (from internet or upload your own)\n",
        "imageURL__or__pathToImage = '' #@param {type:\"string\"}\n",
        "\n",
        "\n",
        "sourceImg = None\n",
        "def path_leaf(path):\n",
        "  import ntpath\n",
        "  head, tail = ntpath.split(path)\n",
        "  return tail or ntpath.basename(head)\n",
        "\n",
        "try:\n",
        "  fname = path_leaf(imageURL__or__pathToImage)\n",
        "  sourceImg = Image.open(fname)\n",
        "except FileNotFoundError:\n",
        "  !curl $imageURL__or__pathToImage > 'downloaded_img.png'\n",
        "  fname = 'downloaded_img.png'\n",
        "  sourceImg = Image.open(fname)\n",
        "except:\n",
        "  raise Exception(\"Image address is incorrect\")\n",
        "\n",
        "\n",
        "if choice_model == 'RRDN GANS (C4-D3-G32-G032-T10-x4_epoch299)':\n",
        "  sr_img = rrdn_gans.predict(np.array(sourceImg))\n",
        "\n",
        "elif choice_model == 'Large RDN (C6-D20-G64-G064-x2_PSNR_epoch086)':\n",
        "  sr_img = large_rdn.predict(np.array(sourceImg))\n",
        "\n",
        "elif choice_model == 'Small RDN (C3-D10-G64-G064-x2_PSNR_epoch134)':\n",
        "  sr_img = small_rdn.predict(np.array(sourceImg))\n",
        "\n",
        "else:\n",
        "  sr_img = large_noise_cancelling_rdn.predict(np.array(sourceImg))\n",
        "\n",
        "# Image.fromarray(sr_img)\n",
        "\n",
        "\n",
        "result_img = Image.fromarray(sr_img)\n",
        "result_img.save(\"/content/result.png\")\n",
        "\n",
        "resizedOriginal = sourceImg.resize(size=(result_img.size[0], result_img.size[1]), resample=Image.BICUBIC)\n",
        "resizedOriginal.save(\"/content/original.png\")\n",
        "\n",
        "!cp '/content/result.png' '/usr/local/share/jupyter/nbextensions/result.png'\n",
        "!cp '/content/original.png' '/usr/local/share/jupyter/nbextensions/original.png'\n",
        "\n",
        "width, height = result_img.size\n",
        "\n",
        "import time\n",
        "from IPython.display import clear_output\n",
        "\n",
        "\n",
        "with open('/content/ISR-Youtube-/index.html','r') as file:\n",
        "    htm = file.read()\n",
        "\n",
        "time.sleep(1)\n",
        "html_code = htm.format(width, height)\n",
        "print()\n",
        "print(\"Original Image (scaled to match output res)\")\n",
        "display(Image.open('/content/original.png'))\n",
        "print(\"Result\")\n",
        "display(Image.open('/content/result.png'))"
      ],
      "execution_count": null,
      "outputs": []
    },
    {
      "cell_type": "code",
      "metadata": {
        "id": "jZscmfh2H9Ea",
        "cellView": "form"
      },
      "source": [
        "#@title Run this cell to get COMPARE results\n",
        "#@markdown Rerun this cell if slider doesnout respond (might solve)\n",
        "\n",
        "display(IPython.display.HTML(html_code))"
      ],
      "execution_count": null,
      "outputs": []
    },
    {
      "cell_type": "code",
      "metadata": {
        "id": "eN1CHy6G2J-9"
      },
      "source": [],
      "execution_count": null,
      "outputs": []
    }
  ]
}